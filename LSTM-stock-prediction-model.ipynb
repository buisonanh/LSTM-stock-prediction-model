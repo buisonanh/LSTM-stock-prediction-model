{
  "cells": [
    {
      "cell_type": "markdown",
      "metadata": {
        "colab_type": "text",
        "id": "view-in-github"
      },
      "source": [
        "<a href=\"https://colab.research.google.com/github/buisonanh/LSTM-stock-prediction-model/blob/main/LSTM-stock-prediction-model.ipynb\" target=\"_parent\"><img src=\"https://colab.research.google.com/assets/colab-badge.svg\" alt=\"Open In Colab\"/></a>"
      ]
    },
    {
      "cell_type": "code",
      "execution_count": 10,
      "metadata": {
        "id": "RV7lMHcNI1tO"
      },
      "outputs": [],
      "source": [
        "from vnstock import *\n",
        "import numpy as np\n",
        "import matplotlib.pyplot as plt\n",
        "import pandas as pd\n",
        "import os\n",
        "from sklearn.preprocessing import MinMaxScaler\n",
        "import datetime as dt\n"
      ]
    },
    {
      "cell_type": "markdown",
      "metadata": {
        "id": "aERqZL3wNuce"
      },
      "source": [
        "# **Getting Data using 'vnstock' Library**"
      ]
    },
    {
      "cell_type": "code",
      "execution_count": 12,
      "metadata": {
        "id": "cpn5a3xXJAmq"
      },
      "outputs": [],
      "source": [
        "df = stock_historical_data(symbol=\"FPT\", type=\"stock\", start_date=\"2006-12-13\", end_date=str(dt.date.today()))"
      ]
    },
    {
      "cell_type": "code",
      "execution_count": 13,
      "metadata": {
        "colab": {
          "base_uri": "https://localhost:8080/"
        },
        "id": "P43KLKidKDmI",
        "outputId": "7fed75b9-af8d-4733-b6bb-2b26c6673f8e"
      },
      "outputs": [
        {
          "name": "stdout",
          "output_type": "stream",
          "text": [
            "<class 'pandas.core.frame.DataFrame'>\n",
            "RangeIndex: 2877 entries, 0 to 2876\n",
            "Data columns (total 7 columns):\n",
            " #   Column  Non-Null Count  Dtype \n",
            "---  ------  --------------  ----- \n",
            " 0   time    2877 non-null   object\n",
            " 1   open    2877 non-null   int32 \n",
            " 2   high    2877 non-null   int32 \n",
            " 3   low     2877 non-null   int32 \n",
            " 4   close   2877 non-null   int32 \n",
            " 5   volume  2877 non-null   int64 \n",
            " 6   ticker  2877 non-null   object\n",
            "dtypes: int32(4), int64(1), object(2)\n",
            "memory usage: 112.5+ KB\n"
          ]
        }
      ],
      "source": [
        "df.info()"
      ]
    },
    {
      "cell_type": "code",
      "execution_count": 14,
      "metadata": {
        "id": "AIR0a7mCMypw"
      },
      "outputs": [],
      "source": [
        "df['time'] = pd.to_datetime(df['time'])\n",
        "df['time'] = df['time'].dt.date"
      ]
    },
    {
      "cell_type": "code",
      "execution_count": 15,
      "metadata": {
        "colab": {
          "base_uri": "https://localhost:8080/"
        },
        "id": "r6pr3CzaK5kx",
        "outputId": "5f86153d-4b44-4e12-93f8-ef98edd45932"
      },
      "outputs": [
        {
          "name": "stdout",
          "output_type": "stream",
          "text": [
            "<class 'pandas.core.frame.DataFrame'>\n",
            "RangeIndex: 2877 entries, 0 to 2876\n",
            "Data columns (total 7 columns):\n",
            " #   Column  Non-Null Count  Dtype \n",
            "---  ------  --------------  ----- \n",
            " 0   time    2877 non-null   object\n",
            " 1   open    2877 non-null   int32 \n",
            " 2   high    2877 non-null   int32 \n",
            " 3   low     2877 non-null   int32 \n",
            " 4   close   2877 non-null   int32 \n",
            " 5   volume  2877 non-null   int64 \n",
            " 6   ticker  2877 non-null   object\n",
            "dtypes: int32(4), int64(1), object(2)\n",
            "memory usage: 112.5+ KB\n"
          ]
        }
      ],
      "source": [
        "df.info()"
      ]
    },
    {
      "cell_type": "markdown",
      "metadata": {
        "id": "HXsoRLrNOQDb"
      },
      "source": [
        "# **Data Exploration**"
      ]
    },
    {
      "cell_type": "code",
      "execution_count": 16,
      "metadata": {
        "colab": {
          "base_uri": "https://localhost:8080/",
          "height": 206
        },
        "id": "36kJhNmmJkBl",
        "outputId": "46ec986c-017f-43b0-af26-b2e239dc2c6d"
      },
      "outputs": [
        {
          "data": {
            "text/html": [
              "<div>\n",
              "<style scoped>\n",
              "    .dataframe tbody tr th:only-of-type {\n",
              "        vertical-align: middle;\n",
              "    }\n",
              "\n",
              "    .dataframe tbody tr th {\n",
              "        vertical-align: top;\n",
              "    }\n",
              "\n",
              "    .dataframe thead th {\n",
              "        text-align: right;\n",
              "    }\n",
              "</style>\n",
              "<table border=\"1\" class=\"dataframe\">\n",
              "  <thead>\n",
              "    <tr style=\"text-align: right;\">\n",
              "      <th></th>\n",
              "      <th>time</th>\n",
              "      <th>open</th>\n",
              "      <th>high</th>\n",
              "      <th>low</th>\n",
              "      <th>close</th>\n",
              "      <th>volume</th>\n",
              "      <th>ticker</th>\n",
              "    </tr>\n",
              "  </thead>\n",
              "  <tbody>\n",
              "    <tr>\n",
              "      <th>0</th>\n",
              "      <td>2012-03-20</td>\n",
              "      <td>6950</td>\n",
              "      <td>6950</td>\n",
              "      <td>6900</td>\n",
              "      <td>6900</td>\n",
              "      <td>94310</td>\n",
              "      <td>FPT</td>\n",
              "    </tr>\n",
              "    <tr>\n",
              "      <th>1</th>\n",
              "      <td>2012-03-21</td>\n",
              "      <td>6900</td>\n",
              "      <td>6950</td>\n",
              "      <td>6840</td>\n",
              "      <td>6900</td>\n",
              "      <td>145260</td>\n",
              "      <td>FPT</td>\n",
              "    </tr>\n",
              "    <tr>\n",
              "      <th>2</th>\n",
              "      <td>2012-03-22</td>\n",
              "      <td>6900</td>\n",
              "      <td>6900</td>\n",
              "      <td>6780</td>\n",
              "      <td>6780</td>\n",
              "      <td>90050</td>\n",
              "      <td>FPT</td>\n",
              "    </tr>\n",
              "    <tr>\n",
              "      <th>3</th>\n",
              "      <td>2012-03-23</td>\n",
              "      <td>6840</td>\n",
              "      <td>6840</td>\n",
              "      <td>6780</td>\n",
              "      <td>6840</td>\n",
              "      <td>71320</td>\n",
              "      <td>FPT</td>\n",
              "    </tr>\n",
              "    <tr>\n",
              "      <th>4</th>\n",
              "      <td>2012-03-26</td>\n",
              "      <td>6840</td>\n",
              "      <td>6840</td>\n",
              "      <td>6780</td>\n",
              "      <td>6840</td>\n",
              "      <td>112360</td>\n",
              "      <td>FPT</td>\n",
              "    </tr>\n",
              "  </tbody>\n",
              "</table>\n",
              "</div>"
            ],
            "text/plain": [
              "         time  open  high   low  close  volume ticker\n",
              "0  2012-03-20  6950  6950  6900   6900   94310    FPT\n",
              "1  2012-03-21  6900  6950  6840   6900  145260    FPT\n",
              "2  2012-03-22  6900  6900  6780   6780   90050    FPT\n",
              "3  2012-03-23  6840  6840  6780   6840   71320    FPT\n",
              "4  2012-03-26  6840  6840  6780   6840  112360    FPT"
            ]
          },
          "execution_count": 16,
          "metadata": {},
          "output_type": "execute_result"
        }
      ],
      "source": [
        "df = df.sort_values('time', ascending=True)\n",
        "df.head()"
      ]
    },
    {
      "cell_type": "markdown",
      "metadata": {
        "id": "RCQ_ms2oOVW6"
      },
      "source": [
        "# **Data Visualization**"
      ]
    },
    {
      "cell_type": "code",
      "execution_count": 17,
      "metadata": {
        "colab": {
          "base_uri": "https://localhost:8080/",
          "height": 835
        },
        "id": "rYd1AmgjJu9w",
        "outputId": "05a9d324-6d6a-4c07-a2c2-0ab726bb5d42"
      },
      "outputs": [
        {
          "data": {
            "image/png": "[encoded data removed]",
            "text/plain": [
              "<Figure size 1800x900 with 1 Axes>"
            ]
          },
          "metadata": {},
          "output_type": "display_data"
        }
      ],
      "source": [
        "plt.figure(figsize = (18,9))\n",
        "plt.plot(range(df.shape[0]),(df['low']+df['high'])/2.0)\n",
        "plt.xticks(range(0,df.shape[0],500),df['time'].loc[::500],rotation=45)\n",
        "plt.xlabel('time',fontsize=18)\n",
        "plt.ylabel('Mid Price',fontsize=18)\n",
        "plt.show()"
      ]
    },
    {
      "cell_type": "markdown",
      "metadata": {
        "id": "-1v6Ye0gOacp"
      },
      "source": [
        "# **Split Data into Traning and Test set**"
      ]
    },
    {
      "cell_type": "code",
      "execution_count": 18,
      "metadata": {
        "id": "SmR7O8SwOhbY"
      },
      "outputs": [],
      "source": [
        "high_prices = df.loc[:, 'high'].values\n",
        "low_prices = df.loc[:, 'high'].values\n",
        "mid_prices = (high_prices + low_prices) / 2"
      ]
    },
    {
      "cell_type": "code",
      "execution_count": 19,
      "metadata": {
        "colab": {
          "base_uri": "https://localhost:8080/"
        },
        "id": "98NwnB7gLX3u",
        "outputId": "b16ecb74-3fe0-4f93-ef17-6e0647032f50"
      },
      "outputs": [
        {
          "data": {
            "text/plain": [
              "2877"
            ]
          },
          "execution_count": 19,
          "metadata": {},
          "output_type": "execute_result"
        }
      ],
      "source": [
        "mid_prices.size"
      ]
    },
    {
      "cell_type": "code",
      "execution_count": 20,
      "metadata": {
        "id": "OOZbYD19-OFe"
      },
      "outputs": [],
      "source": [
        "train_set_length = int((mid_prices.size * 90)/100)\n",
        "\n",
        "train_data = mid_prices[:train_set_length]\n",
        "test_data = mid_prices[train_set_length:]"
      ]
    },
    {
      "cell_type": "code",
      "execution_count": 21,
      "metadata": {
        "colab": {
          "base_uri": "https://localhost:8080/"
        },
        "id": "urDi0IRzBVO9",
        "outputId": "bf212024-a6b0-4106-df94-fa97ab2c4d05"
      },
      "outputs": [
        {
          "data": {
            "text/plain": [
              "2589"
            ]
          },
          "execution_count": 21,
          "metadata": {},
          "output_type": "execute_result"
        }
      ],
      "source": [
        "train_data.size"
      ]
    },
    {
      "cell_type": "markdown",
      "metadata": {
        "id": "lhabTuUf_vNc"
      },
      "source": [
        "# **Normalizing Data**"
      ]
    },
    {
      "cell_type": "code",
      "execution_count": 22,
      "metadata": {
        "colab": {
          "base_uri": "https://localhost:8080/"
        },
        "id": "GXnP-9XxAbIF",
        "outputId": "16bcaa68-2170-4251-a00e-f549468d6182"
      },
      "outputs": [
        {
          "data": {
            "text/plain": [
              "array([[ 6950.],\n",
              "       [ 6950.],\n",
              "       [ 6900.],\n",
              "       ...,\n",
              "       [71550.],\n",
              "       [70710.],\n",
              "       [71310.]])"
            ]
          },
          "execution_count": 22,
          "metadata": {},
          "output_type": "execute_result"
        }
      ],
      "source": [
        "train_data = train_data.reshape(train_data.size,1)\n",
        "train_data"
      ]
    },
    {
      "cell_type": "code",
      "execution_count": 23,
      "metadata": {
        "colab": {
          "base_uri": "https://localhost:8080/"
        },
        "id": "i7bndIuo_tfJ",
        "outputId": "48487415-2aab-49b6-cc5c-b020457168db"
      },
      "outputs": [
        {
          "data": {
            "text/plain": [
              "array([[0.02504842],\n",
              "       [0.02504842],\n",
              "       [0.02440284],\n",
              "       ...,\n",
              "       [0.85913493],\n",
              "       [0.84828922],\n",
              "       [0.85603615]])"
            ]
          },
          "execution_count": 23,
          "metadata": {},
          "output_type": "execute_result"
        }
      ],
      "source": [
        "# Scale the data to be between 0 and 1\n",
        "scaler = MinMaxScaler(feature_range=(0,1))\n",
        "scaled_train_data = scaler.fit_transform(train_data)\n",
        "\n",
        "scaled_train_data"
      ]
    },
    {
      "cell_type": "markdown",
      "metadata": {
        "id": "m7OcwhP1_Ofn"
      },
      "source": [
        "# **Create X_train and y_train Data Structures**"
      ]
    },
    {
      "cell_type": "code",
      "execution_count": 24,
      "metadata": {
        "id": "5HMzoL0O_Vu5"
      },
      "outputs": [],
      "source": [
        "X_train = []\n",
        "y_train = []\n",
        "for i in range(60, 2586):\n",
        "  X_train.append(scaled_train_data[i-60:i, 0])\n",
        "  y_train.append(scaled_train_data[i, 0])\n",
        "X_train = np.array(X_train)\n",
        "y_train = np.array(y_train)"
      ]
    },
    {
      "cell_type": "code",
      "execution_count": 25,
      "metadata": {
        "colab": {
          "base_uri": "https://localhost:8080/"
        },
        "id": "e0VX7ijeBmh8",
        "outputId": "359ab4a3-527f-4027-bb5c-f83a074f6c91"
      },
      "outputs": [
        {
          "name": "stdout",
          "output_type": "stream",
          "text": [
            "(2526, 60)\n",
            "(2526,)\n"
          ]
        }
      ],
      "source": [
        "print(X_train.shape)\n",
        "print(y_train.shape)"
      ]
    },
    {
      "cell_type": "code",
      "execution_count": 26,
      "metadata": {
        "colab": {
          "base_uri": "https://localhost:8080/"
        },
        "id": "Yyagk2ITBtIR",
        "outputId": "022b83b5-07bb-4a19-86b7-8a1fc2050d66"
      },
      "outputs": [
        {
          "data": {
            "text/plain": [
              "(2526, 60, 1)"
            ]
          },
          "execution_count": 26,
          "metadata": {},
          "output_type": "execute_result"
        }
      ],
      "source": [
        "# Reshape data\n",
        "X_train = np.reshape(X_train, (X_train.shape[0], X_train.shape[1], 1))\n",
        "\n",
        "X_train.shape"
      ]
    },
    {
      "cell_type": "markdown",
      "metadata": {
        "id": "zwWXOvURhMcK"
      },
      "source": [
        "# **Using LSTM**"
      ]
    },
    {
      "cell_type": "code",
      "execution_count": 28,
      "metadata": {
        "id": "IojPrNha8AVY"
      },
      "outputs": [],
      "source": [
        "from keras.models import Sequential\n",
        "from keras.layers import LSTM\n",
        "from keras.layers import Dense\n",
        "from keras.layers import Dropout"
      ]
    },
    {
      "cell_type": "code",
      "execution_count": 29,
      "metadata": {
        "id": "OC92Lgtq-7_A"
      },
      "outputs": [],
      "source": [
        "regressor = Sequential()\n",
        "\n",
        "regressor.add(LSTM(units=50, return_sequences=True, input_shape=(X_train.shape[1], 1)))\n",
        "regressor.add(Dropout(0.2))\n",
        "\n",
        "regressor.add(LSTM(units=50, return_sequences=True))\n",
        "regressor.add(Dropout(0.2))\n",
        "\n",
        "regressor.add(LSTM(units=50, return_sequences=True))\n",
        "regressor.add(Dropout(0.2))\n",
        "\n",
        "regressor.add(LSTM(units=50))\n",
        "regressor.add(Dropout(0.2))\n",
        "\n",
        "regressor.add(Dense(units=1))"
      ]
    },
    {
      "cell_type": "code",
      "execution_count": 30,
      "metadata": {
        "colab": {
          "base_uri": "https://localhost:8080/"
        },
        "id": "7gc-W_HtCak0",
        "outputId": "b0d3adbf-b6af-437d-8246-2bfd0eb31681"
      },
      "outputs": [
        {
          "name": "stdout",
          "output_type": "stream",
          "text": [
            "Epoch 1/50\n",
            "79/79 [==============================] - 11s 66ms/step - loss: 0.0084\n",
            "Epoch 2/50\n",
            "79/79 [==============================] - 5s 62ms/step - loss: 0.0019\n",
            "Epoch 3/50\n",
            "79/79 [==============================] - 5s 62ms/step - loss: 0.0017\n",
            "Epoch 4/50\n",
            "79/79 [==============================] - 5s 63ms/step - loss: 0.0016\n",
            "Epoch 5/50\n",
            "79/79 [==============================] - 5s 60ms/step - loss: 0.0017\n",
            "Epoch 6/50\n",
            "79/79 [==============================] - 5s 61ms/step - loss: 0.0014\n",
            "Epoch 7/50\n",
            "79/79 [==============================] - 5s 63ms/step - loss: 0.0014\n",
            "Epoch 8/50\n",
            "79/79 [==============================] - 5s 66ms/step - loss: 0.0014\n",
            "Epoch 9/50\n",
            "79/79 [==============================] - 5s 67ms/step - loss: 0.0014\n",
            "Epoch 10/50\n",
            "79/79 [==============================] - 5s 62ms/step - loss: 0.0015\n",
            "Epoch 11/50\n",
            "79/79 [==============================] - 5s 60ms/step - loss: 0.0012\n",
            "Epoch 12/50\n",
            "79/79 [==============================] - 5s 60ms/step - loss: 0.0012\n",
            "Epoch 13/50\n",
            "79/79 [==============================] - 5s 60ms/step - loss: 0.0012\n",
            "Epoch 14/50\n",
            "79/79 [==============================] - 5s 60ms/step - loss: 0.0011\n",
            "Epoch 15/50\n",
            "79/79 [==============================] - 5s 61ms/step - loss: 0.0012\n",
            "Epoch 16/50\n",
            "79/79 [==============================] - 5s 62ms/step - loss: 9.5846e-04\n",
            "Epoch 17/50\n",
            "79/79 [==============================] - 5s 60ms/step - loss: 0.0012\n",
            "Epoch 18/50\n",
            "79/79 [==============================] - 5s 60ms/step - loss: 0.0011\n",
            "Epoch 19/50\n",
            "79/79 [==============================] - 5s 60ms/step - loss: 0.0010\n",
            "Epoch 20/50\n",
            "79/79 [==============================] - 5s 60ms/step - loss: 9.0987e-04\n",
            "Epoch 21/50\n",
            "79/79 [==============================] - 5s 60ms/step - loss: 9.9884e-04\n",
            "Epoch 22/50\n",
            "79/79 [==============================] - 5s 60ms/step - loss: 9.0320e-04\n",
            "Epoch 23/50\n",
            "79/79 [==============================] - 5s 61ms/step - loss: 0.0010\n",
            "Epoch 24/50\n",
            "79/79 [==============================] - 5s 61ms/step - loss: 0.0011\n",
            "Epoch 25/50\n",
            "79/79 [==============================] - 5s 60ms/step - loss: 9.4420e-04\n",
            "Epoch 26/50\n",
            "79/79 [==============================] - 5s 60ms/step - loss: 9.7236e-04\n",
            "Epoch 27/50\n",
            "79/79 [==============================] - 5s 60ms/step - loss: 8.9283e-04\n",
            "Epoch 28/50\n",
            "79/79 [==============================] - 5s 61ms/step - loss: 8.3179e-04\n",
            "Epoch 29/50\n",
            "79/79 [==============================] - 5s 62ms/step - loss: 7.7532e-04\n",
            "Epoch 30/50\n",
            "79/79 [==============================] - 5s 62ms/step - loss: 8.6539e-04\n",
            "Epoch 31/50\n",
            "79/79 [==============================] - 5s 60ms/step - loss: 7.9293e-04\n",
            "Epoch 32/50\n",
            "79/79 [==============================] - 5s 61ms/step - loss: 8.1841e-04\n",
            "Epoch 33/50\n",
            "79/79 [==============================] - 5s 60ms/step - loss: 9.0608e-04\n",
            "Epoch 34/50\n",
            "79/79 [==============================] - 5s 61ms/step - loss: 7.1583e-04\n",
            "Epoch 35/50\n",
            "79/79 [==============================] - 5s 60ms/step - loss: 7.5186e-04\n",
            "Epoch 36/50\n",
            "79/79 [==============================] - 5s 60ms/step - loss: 7.5463e-04\n",
            "Epoch 37/50\n",
            "79/79 [==============================] - 5s 62ms/step - loss: 0.0011\n",
            "Epoch 38/50\n",
            "79/79 [==============================] - 5s 61ms/step - loss: 7.2632e-04\n",
            "Epoch 39/50\n",
            "79/79 [==============================] - 5s 60ms/step - loss: 7.8598e-04\n",
            "Epoch 40/50\n",
            "79/79 [==============================] - 5s 61ms/step - loss: 7.1881e-04\n",
            "Epoch 41/50\n",
            "79/79 [==============================] - 5s 61ms/step - loss: 8.0093e-04\n",
            "Epoch 42/50\n",
            "79/79 [==============================] - 5s 60ms/step - loss: 7.6504e-04\n",
            "Epoch 43/50\n",
            "79/79 [==============================] - 5s 61ms/step - loss: 7.3386e-04\n",
            "Epoch 44/50\n",
            "79/79 [==============================] - 5s 62ms/step - loss: 7.3437e-04\n",
            "Epoch 45/50\n",
            "79/79 [==============================] - 5s 61ms/step - loss: 6.9653e-04\n",
            "Epoch 46/50\n",
            "79/79 [==============================] - 5s 62ms/step - loss: 7.4875e-04\n",
            "Epoch 47/50\n",
            "79/79 [==============================] - 5s 61ms/step - loss: 6.9033e-04\n",
            "Epoch 48/50\n",
            "79/79 [==============================] - 5s 60ms/step - loss: 6.8395e-04\n",
            "Epoch 49/50\n",
            "79/79 [==============================] - 5s 60ms/step - loss: 7.3479e-04\n",
            "Epoch 50/50\n",
            "79/79 [==============================] - 5s 61ms/step - loss: 7.2872e-04\n"
          ]
        },
        {
          "data": {
            "text/plain": [
              "<keras.src.callbacks.History at 0x21f02ca2490>"
            ]
          },
          "execution_count": 30,
          "metadata": {},
          "output_type": "execute_result"
        }
      ],
      "source": [
        "regressor.compile(optimizer='adam', loss='mean_squared_error')\n",
        "regressor.fit(X_train, y_train, epochs=50, batch_size=32)"
      ]
    },
    {
      "cell_type": "markdown",
      "metadata": {
        "id": "RUniNP49DLq9"
      },
      "source": [
        "# **Testing**"
      ]
    },
    {
      "cell_type": "code",
      "execution_count": 31,
      "metadata": {
        "id": "huVK-QpkETir"
      },
      "outputs": [],
      "source": [
        "actual_stock_price = test_data.reshape(test_data.size, 1)"
      ]
    },
    {
      "cell_type": "code",
      "execution_count": 55,
      "metadata": {
        "id": "XZl0LLg4CpY7"
      },
      "outputs": [],
      "source": [
        "inputs = mid_prices[len(mid_prices) - len(test_data) - 60:]\n",
        "\n",
        "inputs = inputs.reshape(-1,1)\n",
        "inputs = scaler.transform(inputs)\n",
        "\n",
        "X_test = []\n",
        "for i in range(60, test_data.size):\n",
        "  X_test.append(inputs[i-60:i, 0])\n",
        "X_test = np.array(X_test)\n",
        "X_test = np.reshape(X_test, (X_test.shape[0], X_test.shape[1], 1))"
      ]
    },
    {
      "cell_type": "code",
      "execution_count": 56,
      "metadata": {
        "colab": {
          "base_uri": "https://localhost:8080/"
        },
        "id": "UaGWNXnBGUFY",
        "outputId": "0985c326-6cad-406d-f431-8600e88f26f9"
      },
      "outputs": [
        {
          "name": "stdout",
          "output_type": "stream",
          "text": [
            "8/8 [==============================] - 0s 20ms/step\n"
          ]
        }
      ],
      "source": [
        "predicted_stock_price = regressor.predict(X_test)\n",
        "predicted_stock_price = scaler.inverse_transform(predicted_stock_price)"
      ]
    },
    {
      "cell_type": "code",
      "execution_count": 57,
      "metadata": {
        "colab": {
          "base_uri": "https://localhost:8080/",
          "height": 466
        },
        "id": "3EvuAeDKXG1J",
        "outputId": "8b4e11d3-e83f-478e-e930-912caea55a1d"
      },
      "outputs": [
        {
          "data": {
            "text/plain": [
              "<matplotlib.legend.Legend at 0x21f15bf2710>"
            ]
          },
          "execution_count": 57,
          "metadata": {},
          "output_type": "execute_result"
        },
        {
          "data": {
            "image/png": "[encoded data removed]",
            "text/plain": [
              "<Figure size 640x480 with 1 Axes>"
            ]
          },
          "metadata": {},
          "output_type": "display_data"
        }
      ],
      "source": [
        "plt.plot(actual_stock_price, color='red', label='Actual Price')\n",
        "plt.plot(predicted_stock_price, color='blue', label='Predicted Price')\n",
        "plt.xlabel('Time')\n",
        "plt.ylabel('Stock Price')\n",
        "plt.legend()"
      ]
    },
    {
      "cell_type": "code",
      "execution_count": null,
      "metadata": {},
      "outputs": [],
      "source": []
    }
  ],
  "metadata": {
    "colab": {
      "authorship_tag": "ABX9TyOSg69C6QkxxDIRs2iLio+H",
      "include_colab_link": true,
      "provenance": []
    },
    "kernelspec": {
      "display_name": "Python 3",
      "name": "python3"
    },
    "language_info": {
      "codemirror_mode": {
        "name": "ipython",
        "version": 3
      },
      "file_extension": ".py",
      "mimetype": "text/x-python",
      "name": "python",
      "nbconvert_exporter": "python",
      "pygments_lexer": "ipython3",
      "version": "3.11.5"
    }
  },
  "nbformat": 4,
  "nbformat_minor": 0
}
