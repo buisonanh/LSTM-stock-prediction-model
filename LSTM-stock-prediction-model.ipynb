{
  "cells": [
    {
      "cell_type": "markdown",
      "metadata": {
        "id": "view-in-github",
        "colab_type": "text"
      },
      "source": [
        "<a href=\"https://colab.research.google.com/github/buisonanh/LSTM-stock-prediction-model/blob/main/LSTM-stock-prediction-model.ipynb\" target=\"_parent\"><img src=\"https://colab.research.google.com/assets/colab-badge.svg\" alt=\"Open In Colab\"/></a>"
      ]
    },
    {
      "cell_type": "code",
      "execution_count": 1,
      "metadata": {
        "colab": {
          "base_uri": "https://localhost:8080/"
        },
        "id": "0Ogi6gI_IpNU",
        "outputId": "0d3a64d8-2902-45db-8a9a-1354b26f8206"
      },
      "outputs": [
        {
          "output_type": "stream",
          "name": "stdout",
          "text": [
            "Collecting vnstock\n",
            "  Downloading vnstock-0.2.0-py3-none-any.whl (50 kB)\n",
            "\u001b[?25l     \u001b[90m━━━━━━━━━━━━━━━━━━━━━━━━━━━━━━━━━━━━━━━━\u001b[0m \u001b[32m0.0/50.0 kB\u001b[0m \u001b[31m?\u001b[0m eta \u001b[36m-:--:--\u001b[0m\r\u001b[2K     \u001b[90m━━━━━━━━━━━━━━━━━━━━━━━━━━━━━━━━━━━━━━━━\u001b[0m \u001b[32m50.0/50.0 kB\u001b[0m \u001b[31m1.4 MB/s\u001b[0m eta \u001b[36m0:00:00\u001b[0m\n",
            "\u001b[?25hInstalling collected packages: vnstock\n",
            "Successfully installed vnstock-0.2.0\n"
          ]
        }
      ],
      "source": [
        "!pip install vnstock"
      ]
    },
    {
      "cell_type": "code",
      "execution_count": 2,
      "metadata": {
        "id": "RV7lMHcNI1tO"
      },
      "outputs": [],
      "source": [
        "from vnstock import *\n",
        "import numpy as np\n",
        "import matplotlib.pyplot as plt\n",
        "import pandas as pd\n",
        "import os\n",
        "from sklearn.preprocessing import MinMaxScaler\n",
        "import datetime as dt\n",
        "from pandas_datareader import data\n"
      ]
    },
    {
      "cell_type": "markdown",
      "metadata": {
        "id": "aERqZL3wNuce"
      },
      "source": [
        "# **Getting Data using 'vnstock' Library**"
      ]
    },
    {
      "cell_type": "code",
      "execution_count": 3,
      "metadata": {
        "id": "cpn5a3xXJAmq"
      },
      "outputs": [],
      "source": [
        "df = stock_historical_data(symbol=\"FPT\", type=\"stock\", start_date=\"2006-12-13\", end_date=\"2023-09-22\")"
      ]
    },
    {
      "cell_type": "code",
      "execution_count": 4,
      "metadata": {
        "colab": {
          "base_uri": "https://localhost:8080/"
        },
        "id": "P43KLKidKDmI",
        "outputId": "7fed75b9-af8d-4733-b6bb-2b26c6673f8e"
      },
      "outputs": [
        {
          "output_type": "stream",
          "name": "stdout",
          "text": [
            "<class 'pandas.core.frame.DataFrame'>\n",
            "RangeIndex: 2875 entries, 0 to 2874\n",
            "Data columns (total 7 columns):\n",
            " #   Column  Non-Null Count  Dtype \n",
            "---  ------  --------------  ----- \n",
            " 0   time    2875 non-null   object\n",
            " 1   open    2875 non-null   int64 \n",
            " 2   high    2875 non-null   int64 \n",
            " 3   low     2875 non-null   int64 \n",
            " 4   close   2875 non-null   int64 \n",
            " 5   volume  2875 non-null   int64 \n",
            " 6   ticker  2875 non-null   object\n",
            "dtypes: int64(5), object(2)\n",
            "memory usage: 157.4+ KB\n"
          ]
        }
      ],
      "source": [
        "df.info()"
      ]
    },
    {
      "cell_type": "code",
      "execution_count": 5,
      "metadata": {
        "id": "AIR0a7mCMypw"
      },
      "outputs": [],
      "source": [
        "df['time'] = pd.to_datetime(df['time'])\n",
        "df['time'] = df['time'].dt.date"
      ]
    },
    {
      "cell_type": "code",
      "execution_count": 6,
      "metadata": {
        "colab": {
          "base_uri": "https://localhost:8080/"
        },
        "id": "r6pr3CzaK5kx",
        "outputId": "5f86153d-4b44-4e12-93f8-ef98edd45932"
      },
      "outputs": [
        {
          "output_type": "stream",
          "name": "stdout",
          "text": [
            "<class 'pandas.core.frame.DataFrame'>\n",
            "RangeIndex: 2875 entries, 0 to 2874\n",
            "Data columns (total 7 columns):\n",
            " #   Column  Non-Null Count  Dtype \n",
            "---  ------  --------------  ----- \n",
            " 0   time    2875 non-null   object\n",
            " 1   open    2875 non-null   int64 \n",
            " 2   high    2875 non-null   int64 \n",
            " 3   low     2875 non-null   int64 \n",
            " 4   close   2875 non-null   int64 \n",
            " 5   volume  2875 non-null   int64 \n",
            " 6   ticker  2875 non-null   object\n",
            "dtypes: int64(5), object(2)\n",
            "memory usage: 157.4+ KB\n"
          ]
        }
      ],
      "source": [
        "df.info()"
      ]
    },
    {
      "cell_type": "markdown",
      "metadata": {
        "id": "HXsoRLrNOQDb"
      },
      "source": [
        "# **Data Exploration**"
      ]
    },
    {
      "cell_type": "code",
      "execution_count": 7,
      "metadata": {
        "colab": {
          "base_uri": "https://localhost:8080/",
          "height": 206
        },
        "id": "36kJhNmmJkBl",
        "outputId": "46ec986c-017f-43b0-af26-b2e239dc2c6d"
      },
      "outputs": [
        {
          "output_type": "execute_result",
          "data": {
            "text/plain": [
              "         time  open  high   low  close  volume ticker\n",
              "0  2012-03-20  6950  6950  6900   6900   94310    FPT\n",
              "1  2012-03-21  6900  6950  6840   6900  145260    FPT\n",
              "2  2012-03-22  6900  6900  6780   6780   90050    FPT\n",
              "3  2012-03-23  6840  6840  6780   6840   71320    FPT\n",
              "4  2012-03-26  6840  6840  6780   6840  112360    FPT"
            ],
            "text/html": [
              "\n",
              "  <div id=\"df-e9206bb6-93fd-4999-ad98-4049f5abd6b5\" class=\"colab-df-container\">\n",
              "    <div>\n",
              "<style scoped>\n",
              "    .dataframe tbody tr th:only-of-type {\n",
              "        vertical-align: middle;\n",
              "    }\n",
              "\n",
              "    .dataframe tbody tr th {\n",
              "        vertical-align: top;\n",
              "    }\n",
              "\n",
              "    .dataframe thead th {\n",
              "        text-align: right;\n",
              "    }\n",
              "</style>\n",
              "<table border=\"1\" class=\"dataframe\">\n",
              "  <thead>\n",
              "    <tr style=\"text-align: right;\">\n",
              "      <th></th>\n",
              "      <th>time</th>\n",
              "      <th>open</th>\n",
              "      <th>high</th>\n",
              "      <th>low</th>\n",
              "      <th>close</th>\n",
              "      <th>volume</th>\n",
              "      <th>ticker</th>\n",
              "    </tr>\n",
              "  </thead>\n",
              "  <tbody>\n",
              "    <tr>\n",
              "      <th>0</th>\n",
              "      <td>2012-03-20</td>\n",
              "      <td>6950</td>\n",
              "      <td>6950</td>\n",
              "      <td>6900</td>\n",
              "      <td>6900</td>\n",
              "      <td>94310</td>\n",
              "      <td>FPT</td>\n",
              "    </tr>\n",
              "    <tr>\n",
              "      <th>1</th>\n",
              "      <td>2012-03-21</td>\n",
              "      <td>6900</td>\n",
              "      <td>6950</td>\n",
              "      <td>6840</td>\n",
              "      <td>6900</td>\n",
              "      <td>145260</td>\n",
              "      <td>FPT</td>\n",
              "    </tr>\n",
              "    <tr>\n",
              "      <th>2</th>\n",
              "      <td>2012-03-22</td>\n",
              "      <td>6900</td>\n",
              "      <td>6900</td>\n",
              "      <td>6780</td>\n",
              "      <td>6780</td>\n",
              "      <td>90050</td>\n",
              "      <td>FPT</td>\n",
              "    </tr>\n",
              "    <tr>\n",
              "      <th>3</th>\n",
              "      <td>2012-03-23</td>\n",
              "      <td>6840</td>\n",
              "      <td>6840</td>\n",
              "      <td>6780</td>\n",
              "      <td>6840</td>\n",
              "      <td>71320</td>\n",
              "      <td>FPT</td>\n",
              "    </tr>\n",
              "    <tr>\n",
              "      <th>4</th>\n",
              "      <td>2012-03-26</td>\n",
              "      <td>6840</td>\n",
              "      <td>6840</td>\n",
              "      <td>6780</td>\n",
              "      <td>6840</td>\n",
              "      <td>112360</td>\n",
              "      <td>FPT</td>\n",
              "    </tr>\n",
              "  </tbody>\n",
              "</table>\n",
              "</div>\n",
              "    <div class=\"colab-df-buttons\">\n",
              "\n",
              "  <div class=\"colab-df-container\">\n",
              "    <button class=\"colab-df-convert\" onclick=\"convertToInteractive('df-e9206bb6-93fd-4999-ad98-4049f5abd6b5')\"\n",
              "            title=\"Convert this dataframe to an interactive table.\"\n",
              "            style=\"display:none;\">\n",
              "\n",
              "  <svg xmlns=\"http://www.w3.org/2000/svg\" height=\"24px\" viewBox=\"0 -960 960 960\">\n",
              "    <path d=\"M120-120v-720h720v720H120Zm60-500h600v-160H180v160Zm220 220h160v-160H400v160Zm0 220h160v-160H400v160ZM180-400h160v-160H180v160Zm440 0h160v-160H620v160ZM180-180h160v-160H180v160Zm440 0h160v-160H620v160Z\"/>\n",
              "  </svg>\n",
              "    </button>\n",
              "\n",
              "  <style>\n",
              "    .colab-df-container {\n",
              "      display:flex;\n",
              "      gap: 12px;\n",
              "    }\n",
              "\n",
              "    .colab-df-convert {\n",
              "      background-color: #E8F0FE;\n",
              "      border: none;\n",
              "      border-radius: 50%;\n",
              "      cursor: pointer;\n",
              "      display: none;\n",
              "      fill: #1967D2;\n",
              "      height: 32px;\n",
              "      padding: 0 0 0 0;\n",
              "      width: 32px;\n",
              "    }\n",
              "\n",
              "    .colab-df-convert:hover {\n",
              "      background-color: #E2EBFA;\n",
              "      box-shadow: 0px 1px 2px rgba(60, 64, 67, 0.3), 0px 1px 3px 1px rgba(60, 64, 67, 0.15);\n",
              "      fill: #174EA6;\n",
              "    }\n",
              "\n",
              "    .colab-df-buttons div {\n",
              "      margin-bottom: 4px;\n",
              "    }\n",
              "\n",
              "    [theme=dark] .colab-df-convert {\n",
              "      background-color: #3B4455;\n",
              "      fill: #D2E3FC;\n",
              "    }\n",
              "\n",
              "    [theme=dark] .colab-df-convert:hover {\n",
              "      background-color: #434B5C;\n",
              "      box-shadow: 0px 1px 3px 1px rgba(0, 0, 0, 0.15);\n",
              "      filter: drop-shadow(0px 1px 2px rgba(0, 0, 0, 0.3));\n",
              "      fill: #FFFFFF;\n",
              "    }\n",
              "  </style>\n",
              "\n",
              "    <script>\n",
              "      const buttonEl =\n",
              "        document.querySelector('#df-e9206bb6-93fd-4999-ad98-4049f5abd6b5 button.colab-df-convert');\n",
              "      buttonEl.style.display =\n",
              "        google.colab.kernel.accessAllowed ? 'block' : 'none';\n",
              "\n",
              "      async function convertToInteractive(key) {\n",
              "        const element = document.querySelector('#df-e9206bb6-93fd-4999-ad98-4049f5abd6b5');\n",
              "        const dataTable =\n",
              "          await google.colab.kernel.invokeFunction('convertToInteractive',\n",
              "                                                    [key], {});\n",
              "        if (!dataTable) return;\n",
              "\n",
              "        const docLinkHtml = 'Like what you see? Visit the ' +\n",
              "          '<a target=\"_blank\" href=https://colab.research.google.com/notebooks/data_table.ipynb>data table notebook</a>'\n",
              "          + ' to learn more about interactive tables.';\n",
              "        element.innerHTML = '';\n",
              "        dataTable['output_type'] = 'display_data';\n",
              "        await google.colab.output.renderOutput(dataTable, element);\n",
              "        const docLink = document.createElement('div');\n",
              "        docLink.innerHTML = docLinkHtml;\n",
              "        element.appendChild(docLink);\n",
              "      }\n",
              "    </script>\n",
              "  </div>\n",
              "\n",
              "\n",
              "<div id=\"df-ea2df4be-cb03-433d-b0ff-b77522b1d8de\">\n",
              "  <button class=\"colab-df-quickchart\" onclick=\"quickchart('df-ea2df4be-cb03-433d-b0ff-b77522b1d8de')\"\n",
              "            title=\"Suggest charts.\"\n",
              "            style=\"display:none;\">\n",
              "\n",
              "<svg xmlns=\"http://www.w3.org/2000/svg\" height=\"24px\"viewBox=\"0 0 24 24\"\n",
              "     width=\"24px\">\n",
              "    <g>\n",
              "        <path d=\"M19 3H5c-1.1 0-2 .9-2 2v14c0 1.1.9 2 2 2h14c1.1 0 2-.9 2-2V5c0-1.1-.9-2-2-2zM9 17H7v-7h2v7zm4 0h-2V7h2v10zm4 0h-2v-4h2v4z\"/>\n",
              "    </g>\n",
              "</svg>\n",
              "  </button>\n",
              "\n",
              "<style>\n",
              "  .colab-df-quickchart {\n",
              "      --bg-color: #E8F0FE;\n",
              "      --fill-color: #1967D2;\n",
              "      --hover-bg-color: #E2EBFA;\n",
              "      --hover-fill-color: #174EA6;\n",
              "      --disabled-fill-color: #AAA;\n",
              "      --disabled-bg-color: #DDD;\n",
              "  }\n",
              "\n",
              "  [theme=dark] .colab-df-quickchart {\n",
              "      --bg-color: #3B4455;\n",
              "      --fill-color: #D2E3FC;\n",
              "      --hover-bg-color: #434B5C;\n",
              "      --hover-fill-color: #FFFFFF;\n",
              "      --disabled-bg-color: #3B4455;\n",
              "      --disabled-fill-color: #666;\n",
              "  }\n",
              "\n",
              "  .colab-df-quickchart {\n",
              "    background-color: var(--bg-color);\n",
              "    border: none;\n",
              "    border-radius: 50%;\n",
              "    cursor: pointer;\n",
              "    display: none;\n",
              "    fill: var(--fill-color);\n",
              "    height: 32px;\n",
              "    padding: 0;\n",
              "    width: 32px;\n",
              "  }\n",
              "\n",
              "  .colab-df-quickchart:hover {\n",
              "    background-color: var(--hover-bg-color);\n",
              "    box-shadow: 0 1px 2px rgba(60, 64, 67, 0.3), 0 1px 3px 1px rgba(60, 64, 67, 0.15);\n",
              "    fill: var(--button-hover-fill-color);\n",
              "  }\n",
              "\n",
              "  .colab-df-quickchart-complete:disabled,\n",
              "  .colab-df-quickchart-complete:disabled:hover {\n",
              "    background-color: var(--disabled-bg-color);\n",
              "    fill: var(--disabled-fill-color);\n",
              "    box-shadow: none;\n",
              "  }\n",
              "\n",
              "  .colab-df-spinner {\n",
              "    border: 2px solid var(--fill-color);\n",
              "    border-color: transparent;\n",
              "    border-bottom-color: var(--fill-color);\n",
              "    animation:\n",
              "      spin 1s steps(1) infinite;\n",
              "  }\n",
              "\n",
              "  @keyframes spin {\n",
              "    0% {\n",
              "      border-color: transparent;\n",
              "      border-bottom-color: var(--fill-color);\n",
              "      border-left-color: var(--fill-color);\n",
              "    }\n",
              "    20% {\n",
              "      border-color: transparent;\n",
              "      border-left-color: var(--fill-color);\n",
              "      border-top-color: var(--fill-color);\n",
              "    }\n",
              "    30% {\n",
              "      border-color: transparent;\n",
              "      border-left-color: var(--fill-color);\n",
              "      border-top-color: var(--fill-color);\n",
              "      border-right-color: var(--fill-color);\n",
              "    }\n",
              "    40% {\n",
              "      border-color: transparent;\n",
              "      border-right-color: var(--fill-color);\n",
              "      border-top-color: var(--fill-color);\n",
              "    }\n",
              "    60% {\n",
              "      border-color: transparent;\n",
              "      border-right-color: var(--fill-color);\n",
              "    }\n",
              "    80% {\n",
              "      border-color: transparent;\n",
              "      border-right-color: var(--fill-color);\n",
              "      border-bottom-color: var(--fill-color);\n",
              "    }\n",
              "    90% {\n",
              "      border-color: transparent;\n",
              "      border-bottom-color: var(--fill-color);\n",
              "    }\n",
              "  }\n",
              "</style>\n",
              "\n",
              "  <script>\n",
              "    async function quickchart(key) {\n",
              "      const quickchartButtonEl =\n",
              "        document.querySelector('#' + key + ' button');\n",
              "      quickchartButtonEl.disabled = true;  // To prevent multiple clicks.\n",
              "      quickchartButtonEl.classList.add('colab-df-spinner');\n",
              "      try {\n",
              "        const charts = await google.colab.kernel.invokeFunction(\n",
              "            'suggestCharts', [key], {});\n",
              "      } catch (error) {\n",
              "        console.error('Error during call to suggestCharts:', error);\n",
              "      }\n",
              "      quickchartButtonEl.classList.remove('colab-df-spinner');\n",
              "      quickchartButtonEl.classList.add('colab-df-quickchart-complete');\n",
              "    }\n",
              "    (() => {\n",
              "      let quickchartButtonEl =\n",
              "        document.querySelector('#df-ea2df4be-cb03-433d-b0ff-b77522b1d8de button');\n",
              "      quickchartButtonEl.style.display =\n",
              "        google.colab.kernel.accessAllowed ? 'block' : 'none';\n",
              "    })();\n",
              "  </script>\n",
              "</div>\n",
              "    </div>\n",
              "  </div>\n"
            ]
          },
          "metadata": {},
          "execution_count": 7
        }
      ],
      "source": [
        "df = df.sort_values('time', ascending=True)\n",
        "df.head()"
      ]
    },
    {
      "cell_type": "markdown",
      "metadata": {
        "id": "RCQ_ms2oOVW6"
      },
      "source": [
        "# **Data Visualization**"
      ]
    },
    {
      "cell_type": "code",
      "execution_count": 8,
      "metadata": {
        "colab": {
          "base_uri": "https://localhost:8080/",
          "height": 835
        },
        "id": "rYd1AmgjJu9w",
        "outputId": "05a9d324-6d6a-4c07-a2c2-0ab726bb5d42"
      },
      "outputs": [
        {
          "output_type": "display_data",
          "data": {
            "text/plain": [
              "<Figure size 1800x900 with 1 Axes>"
            ],
            "image/png": "[encoded data removed]"
          },
          "metadata": {}
        }
      ],
      "source": [
        "plt.figure(figsize = (18,9))\n",
        "plt.plot(range(df.shape[0]),(df['low']+df['high'])/2.0)\n",
        "plt.xticks(range(0,df.shape[0],500),df['time'].loc[::500],rotation=45)\n",
        "plt.xlabel('time',fontsize=18)\n",
        "plt.ylabel('Mid Price',fontsize=18)\n",
        "plt.show()"
      ]
    },
    {
      "cell_type": "markdown",
      "metadata": {
        "id": "-1v6Ye0gOacp"
      },
      "source": [
        "# **Split Data into Traning and Test set**"
      ]
    },
    {
      "cell_type": "code",
      "execution_count": 9,
      "metadata": {
        "id": "SmR7O8SwOhbY"
      },
      "outputs": [],
      "source": [
        "high_prices = df.loc[:, 'high'].values\n",
        "low_prices = df.loc[:, 'high'].values\n",
        "mid_prices = (high_prices + low_prices) / 2"
      ]
    },
    {
      "cell_type": "code",
      "execution_count": 10,
      "metadata": {
        "colab": {
          "base_uri": "https://localhost:8080/"
        },
        "id": "98NwnB7gLX3u",
        "outputId": "b16ecb74-3fe0-4f93-ef17-6e0647032f50"
      },
      "outputs": [
        {
          "output_type": "execute_result",
          "data": {
            "text/plain": [
              "2875"
            ]
          },
          "metadata": {},
          "execution_count": 10
        }
      ],
      "source": [
        "mid_prices.size"
      ]
    },
    {
      "cell_type": "code",
      "execution_count": 11,
      "metadata": {
        "id": "OOZbYD19-OFe"
      },
      "outputs": [],
      "source": [
        "train_set_length = int((mid_prices.size * 90)/100)\n",
        "\n",
        "train_data = mid_prices[:train_set_length]\n",
        "test_data = mid_prices[train_set_length:]"
      ]
    },
    {
      "cell_type": "code",
      "execution_count": 12,
      "metadata": {
        "colab": {
          "base_uri": "https://localhost:8080/"
        },
        "id": "urDi0IRzBVO9",
        "outputId": "bf212024-a6b0-4106-df94-fa97ab2c4d05"
      },
      "outputs": [
        {
          "output_type": "execute_result",
          "data": {
            "text/plain": [
              "2587"
            ]
          },
          "metadata": {},
          "execution_count": 12
        }
      ],
      "source": [
        "train_data.size"
      ]
    },
    {
      "cell_type": "markdown",
      "metadata": {
        "id": "lhabTuUf_vNc"
      },
      "source": [
        "# **Normalizing Data**"
      ]
    },
    {
      "cell_type": "code",
      "execution_count": 13,
      "metadata": {
        "colab": {
          "base_uri": "https://localhost:8080/"
        },
        "id": "GXnP-9XxAbIF",
        "outputId": "16bcaa68-2170-4251-a00e-f549468d6182"
      },
      "outputs": [
        {
          "output_type": "execute_result",
          "data": {
            "text/plain": [
              "array([[ 6950.],\n",
              "       [ 6950.],\n",
              "       [ 6900.],\n",
              "       ...,\n",
              "       [71550.],\n",
              "       [72060.],\n",
              "       [71550.]])"
            ]
          },
          "metadata": {},
          "execution_count": 13
        }
      ],
      "source": [
        "train_data = train_data.reshape(train_data.size,1)\n",
        "train_data"
      ]
    },
    {
      "cell_type": "code",
      "execution_count": 14,
      "metadata": {
        "colab": {
          "base_uri": "https://localhost:8080/"
        },
        "id": "i7bndIuo_tfJ",
        "outputId": "48487415-2aab-49b6-cc5c-b020457168db"
      },
      "outputs": [
        {
          "output_type": "execute_result",
          "data": {
            "text/plain": [
              "array([[0.02504842],\n",
              "       [0.02504842],\n",
              "       [0.02440284],\n",
              "       ...,\n",
              "       [0.85913493],\n",
              "       [0.86571982],\n",
              "       [0.85913493]])"
            ]
          },
          "metadata": {},
          "execution_count": 14
        }
      ],
      "source": [
        "# Scale the data to be between 0 and 1\n",
        "scaler = MinMaxScaler(feature_range=(0,1))\n",
        "scaled_train_data = scaler.fit_transform(train_data)\n",
        "\n",
        "scaled_train_data"
      ]
    },
    {
      "cell_type": "markdown",
      "metadata": {
        "id": "m7OcwhP1_Ofn"
      },
      "source": [
        "# **Create X_train and y_train Data Structures**"
      ]
    },
    {
      "cell_type": "code",
      "execution_count": 15,
      "metadata": {
        "id": "5HMzoL0O_Vu5"
      },
      "outputs": [],
      "source": [
        "X_train = []\n",
        "y_train = []\n",
        "for i in range(60, 2586):\n",
        "  X_train.append(scaled_train_data[i-60:i, 0])\n",
        "  y_train.append(scaled_train_data[i, 0])\n",
        "X_train = np.array(X_train)\n",
        "y_train = np.array(y_train)"
      ]
    },
    {
      "cell_type": "code",
      "execution_count": 16,
      "metadata": {
        "colab": {
          "base_uri": "https://localhost:8080/"
        },
        "id": "e0VX7ijeBmh8",
        "outputId": "359ab4a3-527f-4027-bb5c-f83a074f6c91"
      },
      "outputs": [
        {
          "output_type": "stream",
          "name": "stdout",
          "text": [
            "(2526, 60)\n",
            "(2526,)\n"
          ]
        }
      ],
      "source": [
        "print(X_train.shape)\n",
        "print(y_train.shape)"
      ]
    },
    {
      "cell_type": "code",
      "execution_count": 17,
      "metadata": {
        "colab": {
          "base_uri": "https://localhost:8080/"
        },
        "id": "Yyagk2ITBtIR",
        "outputId": "022b83b5-07bb-4a19-86b7-8a1fc2050d66"
      },
      "outputs": [
        {
          "output_type": "execute_result",
          "data": {
            "text/plain": [
              "(2526, 60, 1)"
            ]
          },
          "metadata": {},
          "execution_count": 17
        }
      ],
      "source": [
        "# Reshape data\n",
        "X_train = np.reshape(X_train, (X_train.shape[0], X_train.shape[1], 1))\n",
        "\n",
        "X_train.shape"
      ]
    },
    {
      "cell_type": "markdown",
      "metadata": {
        "id": "zwWXOvURhMcK"
      },
      "source": [
        "# **Using LSTM**"
      ]
    },
    {
      "cell_type": "code",
      "execution_count": 18,
      "metadata": {
        "id": "IojPrNha8AVY"
      },
      "outputs": [],
      "source": [
        "from keras.models import Sequential\n",
        "from keras.layers import LSTM\n",
        "from keras.layers import Dense\n",
        "from keras.layers import Dropout"
      ]
    },
    {
      "cell_type": "code",
      "execution_count": 19,
      "metadata": {
        "id": "OC92Lgtq-7_A"
      },
      "outputs": [],
      "source": [
        "regressor = Sequential()\n",
        "\n",
        "regressor.add(LSTM(units=50, return_sequences=True, input_shape=(X_train.shape[1], 1)))\n",
        "regressor.add(Dropout(0.2))\n",
        "\n",
        "regressor.add(LSTM(units=50, return_sequences=True))\n",
        "regressor.add(Dropout(0.2))\n",
        "\n",
        "regressor.add(LSTM(units=50, return_sequences=True))\n",
        "regressor.add(Dropout(0.2))\n",
        "\n",
        "regressor.add(LSTM(units=50))\n",
        "regressor.add(Dropout(0.2))\n",
        "\n",
        "regressor.add(Dense(units=1))"
      ]
    },
    {
      "cell_type": "code",
      "execution_count": 20,
      "metadata": {
        "colab": {
          "base_uri": "https://localhost:8080/"
        },
        "id": "7gc-W_HtCak0",
        "outputId": "b0d3adbf-b6af-437d-8246-2bfd0eb31681"
      },
      "outputs": [
        {
          "output_type": "stream",
          "name": "stdout",
          "text": [
            "Epoch 1/50\n",
            "79/79 [==============================] - 32s 156ms/step - loss: 0.0082\n",
            "Epoch 2/50\n",
            "79/79 [==============================] - 11s 134ms/step - loss: 0.0019\n",
            "Epoch 3/50\n",
            "79/79 [==============================] - 11s 134ms/step - loss: 0.0015\n",
            "Epoch 4/50\n",
            "79/79 [==============================] - 10s 132ms/step - loss: 0.0018\n",
            "Epoch 5/50\n",
            "79/79 [==============================] - 10s 120ms/step - loss: 0.0017\n",
            "Epoch 6/50\n",
            "79/79 [==============================] - 11s 136ms/step - loss: 0.0014\n",
            "Epoch 7/50\n",
            "79/79 [==============================] - 11s 137ms/step - loss: 0.0012\n",
            "Epoch 8/50\n",
            "79/79 [==============================] - 11s 138ms/step - loss: 0.0014\n",
            "Epoch 9/50\n",
            "79/79 [==============================] - 13s 161ms/step - loss: 0.0011\n",
            "Epoch 10/50\n",
            "79/79 [==============================] - 10s 131ms/step - loss: 0.0012\n",
            "Epoch 11/50\n",
            "79/79 [==============================] - 10s 123ms/step - loss: 0.0011\n",
            "Epoch 12/50\n",
            "79/79 [==============================] - 11s 135ms/step - loss: 0.0012\n",
            "Epoch 13/50\n",
            "79/79 [==============================] - 11s 136ms/step - loss: 0.0012\n",
            "Epoch 14/50\n",
            "79/79 [==============================] - 11s 136ms/step - loss: 0.0011\n",
            "Epoch 15/50\n",
            "79/79 [==============================] - 10s 130ms/step - loss: 0.0013\n",
            "Epoch 16/50\n",
            "79/79 [==============================] - 10s 124ms/step - loss: 0.0011\n",
            "Epoch 17/50\n",
            "79/79 [==============================] - 11s 136ms/step - loss: 0.0010\n",
            "Epoch 18/50\n",
            "79/79 [==============================] - 11s 137ms/step - loss: 9.9349e-04\n",
            "Epoch 19/50\n",
            "79/79 [==============================] - 11s 136ms/step - loss: 9.5215e-04\n",
            "Epoch 20/50\n",
            "79/79 [==============================] - 11s 133ms/step - loss: 0.0010\n",
            "Epoch 21/50\n",
            "79/79 [==============================] - 10s 120ms/step - loss: 0.0010\n",
            "Epoch 22/50\n",
            "79/79 [==============================] - 11s 135ms/step - loss: 8.5269e-04\n",
            "Epoch 23/50\n",
            "79/79 [==============================] - 11s 135ms/step - loss: 8.5162e-04\n",
            "Epoch 24/50\n",
            "79/79 [==============================] - 11s 135ms/step - loss: 9.3543e-04\n",
            "Epoch 25/50\n",
            "79/79 [==============================] - 10s 133ms/step - loss: 8.8448e-04\n",
            "Epoch 26/50\n",
            "79/79 [==============================] - 10s 120ms/step - loss: 8.2143e-04\n",
            "Epoch 27/50\n",
            "79/79 [==============================] - 12s 154ms/step - loss: 0.0011\n",
            "Epoch 28/50\n",
            "79/79 [==============================] - 11s 136ms/step - loss: 8.4332e-04\n",
            "Epoch 29/50\n",
            "79/79 [==============================] - 11s 135ms/step - loss: 8.0783e-04\n",
            "Epoch 30/50\n",
            "79/79 [==============================] - 10s 122ms/step - loss: 7.8267e-04\n",
            "Epoch 31/50\n",
            "79/79 [==============================] - 10s 130ms/step - loss: 8.8615e-04\n",
            "Epoch 32/50\n",
            "79/79 [==============================] - 11s 135ms/step - loss: 8.5046e-04\n",
            "Epoch 33/50\n",
            "79/79 [==============================] - 11s 134ms/step - loss: 7.1327e-04\n",
            "Epoch 34/50\n",
            "79/79 [==============================] - 11s 135ms/step - loss: 8.4776e-04\n",
            "Epoch 35/50\n",
            "79/79 [==============================] - 9s 120ms/step - loss: 8.7403e-04\n",
            "Epoch 36/50\n",
            "79/79 [==============================] - 13s 169ms/step - loss: 7.8451e-04\n",
            "Epoch 37/50\n",
            "79/79 [==============================] - 11s 134ms/step - loss: 7.0610e-04\n",
            "Epoch 38/50\n",
            "79/79 [==============================] - 11s 134ms/step - loss: 8.5281e-04\n",
            "Epoch 39/50\n",
            "79/79 [==============================] - 11s 136ms/step - loss: 7.6783e-04\n",
            "Epoch 40/50\n",
            "79/79 [==============================] - 11s 135ms/step - loss: 7.0875e-04\n",
            "Epoch 41/50\n",
            "79/79 [==============================] - 10s 125ms/step - loss: 7.2108e-04\n",
            "Epoch 42/50\n",
            "79/79 [==============================] - 10s 128ms/step - loss: 7.2139e-04\n",
            "Epoch 43/50\n",
            "79/79 [==============================] - 10s 133ms/step - loss: 8.0962e-04\n",
            "Epoch 44/50\n",
            "79/79 [==============================] - 11s 134ms/step - loss: 6.6748e-04\n",
            "Epoch 45/50\n",
            "79/79 [==============================] - 11s 134ms/step - loss: 8.6774e-04\n",
            "Epoch 46/50\n",
            "79/79 [==============================] - 9s 119ms/step - loss: 6.3898e-04\n",
            "Epoch 47/50\n",
            "79/79 [==============================] - 12s 150ms/step - loss: 7.4117e-04\n",
            "Epoch 48/50\n",
            "79/79 [==============================] - 11s 134ms/step - loss: 7.0287e-04\n",
            "Epoch 49/50\n",
            "79/79 [==============================] - 11s 134ms/step - loss: 6.6215e-04\n",
            "Epoch 50/50\n",
            "79/79 [==============================] - 11s 134ms/step - loss: 7.0912e-04\n"
          ]
        },
        {
          "output_type": "execute_result",
          "data": {
            "text/plain": [
              "<keras.src.callbacks.History at 0x79d7db540a60>"
            ]
          },
          "metadata": {},
          "execution_count": 20
        }
      ],
      "source": [
        "regressor.compile(optimizer='adam', loss='mean_squared_error')\n",
        "regressor.fit(X_train, y_train, epochs=50, batch_size=32)"
      ]
    },
    {
      "cell_type": "markdown",
      "metadata": {
        "id": "RUniNP49DLq9"
      },
      "source": [
        "# **Testing**"
      ]
    },
    {
      "cell_type": "code",
      "execution_count": 21,
      "metadata": {
        "id": "huVK-QpkETir"
      },
      "outputs": [],
      "source": [
        "actual_stock_price = test_data.reshape(test_data.size, 1)"
      ]
    },
    {
      "cell_type": "code",
      "execution_count": 22,
      "metadata": {
        "id": "XZl0LLg4CpY7"
      },
      "outputs": [],
      "source": [
        "inputs = mid_prices[len(mid_prices) - len(test_data) - 60:]\n",
        "\n",
        "inputs = inputs.reshape(-1,1)\n",
        "inputs = scaler.transform(inputs)\n",
        "\n",
        "X_test = []\n",
        "for i in range(60, test_data.size):\n",
        "  X_test.append(inputs[i-60:i, 0])\n",
        "X_test = np.array(X_test)\n",
        "X_test = np.reshape(X_test, (X_test.shape[0], X_test.shape[1], 1))"
      ]
    },
    {
      "cell_type": "code",
      "execution_count": 23,
      "metadata": {
        "id": "UaGWNXnBGUFY",
        "colab": {
          "base_uri": "https://localhost:8080/"
        },
        "outputId": "0985c326-6cad-406d-f431-8600e88f26f9"
      },
      "outputs": [
        {
          "output_type": "stream",
          "name": "stdout",
          "text": [
            "8/8 [==============================] - 2s 31ms/step\n"
          ]
        }
      ],
      "source": [
        "predicted_stock_price = regressor.predict(X_test)\n",
        "predicted_stock_price = scaler.inverse_transform(predicted_stock_price)"
      ]
    },
    {
      "cell_type": "code",
      "execution_count": 24,
      "metadata": {
        "id": "3EvuAeDKXG1J",
        "colab": {
          "base_uri": "https://localhost:8080/",
          "height": 466
        },
        "outputId": "8b4e11d3-e83f-478e-e930-912caea55a1d"
      },
      "outputs": [
        {
          "output_type": "execute_result",
          "data": {
            "text/plain": [
              "<matplotlib.legend.Legend at 0x79d7db729630>"
            ]
          },
          "metadata": {},
          "execution_count": 24
        },
        {
          "output_type": "display_data",
          "data": {
            "text/plain": [
              "<Figure size 640x480 with 1 Axes>"
            ],
            "image/png": "[encoded data removed]"
          },
          "metadata": {}
        }
      ],
      "source": [
        "plt.plot(actual_stock_price, color='red', label='Actual Price')\n",
        "plt.plot(predicted_stock_price, color='blue', label='Predicted Price')\n",
        "plt.xlabel('Time')\n",
        "plt.ylabel('Stock Price')\n",
        "plt.legend()"
      ]
    }
  ],
  "metadata": {
    "colab": {
      "provenance": [],
      "authorship_tag": "ABX9TyOSg69C6QkxxDIRs2iLio+H",
      "include_colab_link": true
    },
    "kernelspec": {
      "display_name": "Python 3",
      "name": "python3"
    },
    "language_info": {
      "name": "python"
    }
  },
  "nbformat": 4,
  "nbformat_minor": 0
}